{
 "cells": [
  {
   "cell_type": "code",
   "execution_count": 2,
   "metadata": {},
   "outputs": [],
   "source": [
    "import pandas "
   ]
  },
  {
   "cell_type": "code",
   "execution_count": 10,
   "metadata": {},
   "outputs": [
    {
     "name": "stdout",
     "output_type": "stream",
     "text": [
      "   ID          Address           City             State Country         Name  \\\n",
      "0   1     3666 21st St  San Francisco          CA 94114     USA      Madeira   \n",
      "1   2   735 Dolores St  San Francisco          CA 94119     USA  Bready Shop   \n",
      "2   3      332 Hill St  San Francisco  California 94114     USA  Super River   \n",
      "3   4     3995 23rd St  San Francisco          CA 94114     USA   Ben's Shop   \n",
      "4   5  1056 Sanchez St  San Francisco        California     USA      Sanchez   \n",
      "5   6  551 Alvarado St  San Francisco          CA 94114     USA   Richvalley   \n",
      "\n",
      "   Employees  \n",
      "0          8  \n",
      "1         15  \n",
      "2         25  \n",
      "3         10  \n",
      "4         12  \n",
      "5         20  \n"
     ]
    }
   ],
   "source": [
    "#csv\n",
    "df1 = pandas.read_csv('../../supermarkets/supermarkets.csv')\n",
    "print(df1)"
   ]
  },
  {
   "cell_type": "code",
   "execution_count": 13,
   "metadata": {},
   "outputs": [
    {
     "name": "stdout",
     "output_type": "stream",
     "text": [
      "   ID          Address           City             State Country         Name  \\\n",
      "0   1     3666 21st St  San Francisco          CA 94114     USA      Madeira   \n",
      "1   2   735 Dolores St  San Francisco          CA 94119     USA  Bready Shop   \n",
      "2   3      332 Hill St  San Francisco  California 94114     USA  Super River   \n",
      "3   4     3995 23rd St  San Francisco          CA 94114     USA   Ben's Shop   \n",
      "4   5  1056 Sanchez St  San Francisco        California     USA      Sanchez   \n",
      "5   6  551 Alvarado St  San Francisco          CA 94114     USA   Richvalley   \n",
      "\n",
      "   Employees  \n",
      "0          8  \n",
      "1         15  \n",
      "2         25  \n",
      "3         10  \n",
      "4         12  \n",
      "5         20  \n"
     ]
    }
   ],
   "source": [
    "#JSON\n",
    "df2 = pandas.read_json('../../supermarkets/supermarkets.json')\n",
    "print(df2)"
   ]
  }
 ],
 "metadata": {
  "kernelspec": {
   "display_name": "Python 3.10.6 64-bit",
   "language": "python",
   "name": "python3"
  },
  "language_info": {
   "codemirror_mode": {
    "name": "ipython",
    "version": 3
   },
   "file_extension": ".py",
   "mimetype": "text/x-python",
   "name": "python",
   "nbconvert_exporter": "python",
   "pygments_lexer": "ipython3",
   "version": "3.10.6"
  },
  "orig_nbformat": 4,
  "vscode": {
   "interpreter": {
    "hash": "aee8b7b246df8f9039afb4144a1f6fd8d2ca17a180786b69acc140d282b71a49"
   }
  }
 },
 "nbformat": 4,
 "nbformat_minor": 2
}
