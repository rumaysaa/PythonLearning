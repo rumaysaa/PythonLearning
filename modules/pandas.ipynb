{
 "cells": [
  {
   "cell_type": "code",
   "execution_count": 7,
   "metadata": {},
   "outputs": [
    {
     "name": "stdout",
     "output_type": "stream",
     "text": [
      "st1    24.45\n",
      "st2    34.55\n",
      "dtype: float64\n",
      "24.45\n"
     ]
    }
   ],
   "source": [
    "import pandas\n",
    "import os\n",
    "\n",
    "if os.path.exists('temp.csv'):\n",
    "    data = pandas.read_csv('temp.csv')\n",
    "    print(data.mean())"
   ]
  },
  {
   "cell_type": "code",
   "execution_count": 8,
   "metadata": {},
   "outputs": [
    {
     "name": "stdout",
     "output_type": "stream",
     "text": [
      "24.45\n"
     ]
    }
   ],
   "source": [
    "#to get mean of specific data \n",
    "print(data.mean()['st1'])"
   ]
  },
  {
   "cell_type": "code",
   "execution_count": 12,
   "metadata": {},
   "outputs": [
    {
     "name": "stdout",
     "output_type": "stream",
     "text": [
      "        Marks1  Mark2  Mark3\n",
      "First       22     43     44\n",
      "Second      56     34     55\n"
     ]
    }
   ],
   "source": [
    "df1 = pandas.DataFrame([[22,43,44],[56,34,55]],columns=[\"Marks1\",\"Mark2\",\"Mark3\"],index=[\"First\",\"Second\"])\n",
    "print(df1)"
   ]
  },
  {
   "cell_type": "code",
   "execution_count": 14,
   "metadata": {},
   "outputs": [
    {
     "name": "stdout",
     "output_type": "stream",
     "text": [
      "Marks1    39.0\n",
      "Mark2     38.5\n",
      "Mark3     49.5\n",
      "dtype: float64\n",
      "42.333333333333336\n"
     ]
    }
   ],
   "source": [
    "print(df1.mean())\n",
    "print(df1.mean().mean())"
   ]
  },
  {
   "cell_type": "code",
   "execution_count": 16,
   "metadata": {},
   "outputs": [
    {
     "name": "stdout",
     "output_type": "stream",
     "text": [
      "        Name   age\n",
      "0  Namjoonie  23.0\n",
      "1         JK  22.0\n",
      "2         RM   NaN\n"
     ]
    }
   ],
   "source": [
    "#using dictionaries\n",
    "df2 = pandas.DataFrame([{\"Name\":\"Namjoonie\",\"age\":23},{\"Name\":\"JK\",\"age\":22},{\"Name\":\"RM\"}])\n",
    "print(df2)"
   ]
  },
  {
   "cell_type": "code",
   "execution_count": 18,
   "metadata": {},
   "outputs": [
    {
     "name": "stdout",
     "output_type": "stream",
     "text": [
      "Marks1    39.0\n",
      "Mark2     38.5\n",
      "Mark3     49.5\n",
      "dtype: float64\n",
      "<class 'pandas.core.series.Series'>\n"
     ]
    }
   ],
   "source": [
    "print(df1.mean())\n",
    "print(type(df1.mean()))"
   ]
  },
  {
   "cell_type": "code",
   "execution_count": 20,
   "metadata": {},
   "outputs": [
    {
     "name": "stdout",
     "output_type": "stream",
     "text": [
      "First     44\n",
      "Second    55\n",
      "Name: Mark3, dtype: int64\n",
      "38.5\n"
     ]
    }
   ],
   "source": [
    "print(df1.Mark3) #will get series od mark3\n",
    "print(df1.Mark2.mean())"
   ]
  }
 ],
 "metadata": {
  "kernelspec": {
   "display_name": "Python 3.10.6 64-bit",
   "language": "python",
   "name": "python3"
  },
  "language_info": {
   "codemirror_mode": {
    "name": "ipython",
    "version": 3
   },
   "file_extension": ".py",
   "mimetype": "text/x-python",
   "name": "python",
   "nbconvert_exporter": "python",
   "pygments_lexer": "ipython3",
   "version": "3.10.6"
  },
  "orig_nbformat": 4,
  "vscode": {
   "interpreter": {
    "hash": "aee8b7b246df8f9039afb4144a1f6fd8d2ca17a180786b69acc140d282b71a49"
   }
  }
 },
 "nbformat": 4,
 "nbformat_minor": 2
}
