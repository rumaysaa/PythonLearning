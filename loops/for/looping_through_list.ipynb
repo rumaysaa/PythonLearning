{
 "cells": [
  {
   "cell_type": "code",
   "execution_count": 1,
   "metadata": {},
   "outputs": [
    {
     "name": "stdout",
     "output_type": "stream",
     "text": [
      "98\n",
      "54\n",
      "54\n"
     ]
    }
   ],
   "source": [
    "colors = [11, 34, 98, 43, 45, 54, 54]\n",
    "for color in colors:\n",
    "    if color > 50:\n",
    "        print(color)"
   ]
  },
  {
   "cell_type": "code",
   "execution_count": 2,
   "metadata": {},
   "outputs": [
    {
     "name": "stdout",
     "output_type": "stream",
     "text": [
      "11\n",
      "43\n",
      "54\n",
      "54\n"
     ]
    }
   ],
   "source": [
    "#print only integers\n",
    "colors = [11, 34.1, 98.2, 43, 45.1, 54, 54]\n",
    "for color in colors:\n",
    "    if isinstance(color,int):\n",
    "        print(color)"
   ]
  },
  {
   "cell_type": "code",
   "execution_count": 3,
   "metadata": {},
   "outputs": [
    {
     "name": "stdout",
     "output_type": "stream",
     "text": [
      "54\n",
      "54\n"
     ]
    }
   ],
   "source": [
    "colors = [11, 34.1, 98.2, 43, 45.1, 54, 54]\n",
    "for color in colors:\n",
    "    if isinstance(color, int) and color > 50:\n",
    "        print(color)\n"
   ]
  }
 ],
 "metadata": {
  "kernelspec": {
   "display_name": "Python 3.10.6 64-bit",
   "language": "python",
   "name": "python3"
  },
  "language_info": {
   "codemirror_mode": {
    "name": "ipython",
    "version": 3
   },
   "file_extension": ".py",
   "mimetype": "text/x-python",
   "name": "python",
   "nbconvert_exporter": "python",
   "pygments_lexer": "ipython3",
   "version": "3.10.6"
  },
  "orig_nbformat": 4,
  "vscode": {
   "interpreter": {
    "hash": "aee8b7b246df8f9039afb4144a1f6fd8d2ca17a180786b69acc140d282b71a49"
   }
  }
 },
 "nbformat": 4,
 "nbformat_minor": 2
}
