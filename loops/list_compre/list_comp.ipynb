{
 "cells": [
  {
   "cell_type": "code",
   "execution_count": 1,
   "metadata": {},
   "outputs": [
    {
     "name": "stdout",
     "output_type": "stream",
     "text": [
      "[22.1, 34.5, 65.7, 45.0]\n"
     ]
    }
   ],
   "source": [
    "list = [221,345,657,450]\n",
    "new_list = [temp/10 for temp in list] \n",
    "print(new_list)"
   ]
  },
  {
   "cell_type": "code",
   "execution_count": 2,
   "metadata": {},
   "outputs": [
    {
     "name": "stdout",
     "output_type": "stream",
     "text": [
      "[23.4, 45.6, 12.0]\n"
     ]
    }
   ],
   "source": [
    "#with if condition\n",
    "list = [234, 456, 120, -234]\n",
    "new_list = [temp/10 for temp in list if temp != -234]\n",
    "print(new_list)\n"
   ]
  },
  {
   "cell_type": "code",
   "execution_count": 1,
   "metadata": {},
   "outputs": [
    {
     "name": "stdout",
     "output_type": "stream",
     "text": [
      "[99, 0, 95, 94, 0]\n"
     ]
    }
   ],
   "source": [
    "myList = [99, 'no data', 95, 94, 'no data']\n",
    "def fun(myList):\n",
    "    new_list = [ l if not isinstance(l,str) else 0 for l in myList ]\n",
    "    return new_list    \n",
    "print(fun(myList))"
   ]
  }
 ],
 "metadata": {
  "kernelspec": {
   "display_name": "Python 3.10.6 64-bit",
   "language": "python",
   "name": "python3"
  },
  "language_info": {
   "codemirror_mode": {
    "name": "ipython",
    "version": 3
   },
   "file_extension": ".py",
   "mimetype": "text/x-python",
   "name": "python",
   "nbconvert_exporter": "python",
   "pygments_lexer": "ipython3",
   "version": "3.10.6"
  },
  "orig_nbformat": 4,
  "vscode": {
   "interpreter": {
    "hash": "aee8b7b246df8f9039afb4144a1f6fd8d2ca17a180786b69acc140d282b71a49"
   }
  }
 },
 "nbformat": 4,
 "nbformat_minor": 2
}
