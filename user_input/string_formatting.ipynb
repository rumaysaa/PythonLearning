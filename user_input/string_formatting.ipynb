{
 "cells": [
  {
   "cell_type": "markdown",
   "metadata": {},
   "source": [
    "method 1 -"
   ]
  },
  {
   "cell_type": "code",
   "execution_count": 6,
   "metadata": {},
   "outputs": [
    {
     "name": "stdout",
     "output_type": "stream",
     "text": [
      "Hello marszia babulkhair\n"
     ]
    }
   ],
   "source": [
    "name = input(\"Enter your name:\")\n",
    "sirname = input(\"Enter your sirname:\")\n",
    "message = \"Hello %s %s\" % (name,sirname)\n",
    "print(message)"
   ]
  },
  {
   "cell_type": "markdown",
   "metadata": {},
   "source": [
    "method 2 -"
   ]
  },
  {
   "cell_type": "code",
   "execution_count": 7,
   "metadata": {},
   "outputs": [
    {
     "name": "stdout",
     "output_type": "stream",
     "text": [
      "Hello ruamysa babulkhair!\n"
     ]
    }
   ],
   "source": [
    "#latest version\n",
    "name = input(\"Enter your name:\")\n",
    "sirname = input(\"Enter your sirname:\")\n",
    "message = f\"Hello {name} {sirname}!\"\n",
    "print(message)\n"
   ]
  },
  {
   "cell_type": "markdown",
   "metadata": {},
   "source": [
    "method 3 -"
   ]
  },
  {
   "cell_type": "code",
   "execution_count": 9,
   "metadata": {},
   "outputs": [
    {
     "name": "stdout",
     "output_type": "stream",
     "text": [
      "Your name is rumaysa. Your sirname is babulkhair.\n"
     ]
    }
   ],
   "source": [
    "name = input(\"Enter your name:\")\n",
    "sirname = input(\"Enter your sirname:\")\n",
    "message = \"Your name is {}. Your sirname is {}.\".format(name,sirname)\n",
    "print (message)"
   ]
  }
 ],
 "metadata": {
  "kernelspec": {
   "display_name": "Python 3.10.6 64-bit",
   "language": "python",
   "name": "python3"
  },
  "language_info": {
   "codemirror_mode": {
    "name": "ipython",
    "version": 3
   },
   "file_extension": ".py",
   "mimetype": "text/x-python",
   "name": "python",
   "nbconvert_exporter": "python",
   "pygments_lexer": "ipython3",
   "version": "3.10.6"
  },
  "orig_nbformat": 4,
  "vscode": {
   "interpreter": {
    "hash": "aee8b7b246df8f9039afb4144a1f6fd8d2ca17a180786b69acc140d282b71a49"
   }
  }
 },
 "nbformat": 4,
 "nbformat_minor": 2
}
