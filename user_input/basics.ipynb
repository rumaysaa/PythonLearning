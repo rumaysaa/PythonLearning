{
 "cells": [
  {
   "cell_type": "code",
   "execution_count": 1,
   "metadata": {},
   "outputs": [
    {
     "name": "stdout",
     "output_type": "stream",
     "text": [
      "65\n"
     ]
    }
   ],
   "source": [
    "#taking input from user\n",
    "input_value = input(\"Enter a number:\")\n",
    "print(input_value) "
   ]
  },
  {
   "cell_type": "code",
   "execution_count": 13,
   "metadata": {},
   "outputs": [
    {
     "ename": "TypeError",
     "evalue": "'>' not supported between instances of 'str' and 'int'",
     "output_type": "error",
     "traceback": [
      "\u001b[0;31m---------------------------------------------------------------------------\u001b[0m",
      "\u001b[0;31mTypeError\u001b[0m                                 Traceback (most recent call last)",
      "\u001b[1;32m/Users/rumaysa/Documents/udemy_python/proj1/user_input/basics.ipynb Cell 2\u001b[0m in \u001b[0;36m<cell line: 8>\u001b[0;34m()\u001b[0m\n\u001b[1;32m      <a href='vscode-notebook-cell:/Users/rumaysa/Documents/udemy_python/proj1/user_input/basics.ipynb#ch0000001?line=5'>6</a>\u001b[0m inp \u001b[39m=\u001b[39m (\u001b[39minput\u001b[39m(\u001b[39m\"\u001b[39m\u001b[39mEnter number\u001b[39m\u001b[39m\"\u001b[39m)) \n\u001b[1;32m      <a href='vscode-notebook-cell:/Users/rumaysa/Documents/udemy_python/proj1/user_input/basics.ipynb#ch0000001?line=6'>7</a>\u001b[0m \u001b[39m#print(type(inp))\u001b[39;00m\n\u001b[0;32m----> <a href='vscode-notebook-cell:/Users/rumaysa/Documents/udemy_python/proj1/user_input/basics.ipynb#ch0000001?line=7'>8</a>\u001b[0m \u001b[39mprint\u001b[39m(fun(inp))\n",
      "\u001b[1;32m/Users/rumaysa/Documents/udemy_python/proj1/user_input/basics.ipynb Cell 2\u001b[0m in \u001b[0;36mfun\u001b[0;34m(value)\u001b[0m\n\u001b[1;32m      <a href='vscode-notebook-cell:/Users/rumaysa/Documents/udemy_python/proj1/user_input/basics.ipynb#ch0000001?line=0'>1</a>\u001b[0m \u001b[39mdef\u001b[39;00m \u001b[39mfun\u001b[39m(value):\n\u001b[0;32m----> <a href='vscode-notebook-cell:/Users/rumaysa/Documents/udemy_python/proj1/user_input/basics.ipynb#ch0000001?line=1'>2</a>\u001b[0m     \u001b[39mif\u001b[39;00m value \u001b[39m>\u001b[39;49m \u001b[39m18\u001b[39;49m:\n\u001b[1;32m      <a href='vscode-notebook-cell:/Users/rumaysa/Documents/udemy_python/proj1/user_input/basics.ipynb#ch0000001?line=2'>3</a>\u001b[0m         \u001b[39mreturn\u001b[39;00m \u001b[39m\"\u001b[39m\u001b[39mYou can vote\u001b[39m\u001b[39m\"\u001b[39m\n\u001b[1;32m      <a href='vscode-notebook-cell:/Users/rumaysa/Documents/udemy_python/proj1/user_input/basics.ipynb#ch0000001?line=3'>4</a>\u001b[0m     \u001b[39melse\u001b[39;00m:\n",
      "\u001b[0;31mTypeError\u001b[0m: '>' not supported between instances of 'str' and 'int'"
     ]
    }
   ],
   "source": [
    "def fun(value):\n",
    "    if value > 18:\n",
    "        return \"You can vote\"\n",
    "    else:\n",
    "        return \"You can't vote\"\n",
    "inp = int(input(\"Enter number\")) \n",
    "#print(type(inp))\n",
    "print(fun(inp))"
   ]
  }
 ],
 "metadata": {
  "kernelspec": {
   "display_name": "Python 3.10.6 64-bit",
   "language": "python",
   "name": "python3"
  },
  "language_info": {
   "codemirror_mode": {
    "name": "ipython",
    "version": 3
   },
   "file_extension": ".py",
   "mimetype": "text/x-python",
   "name": "python",
   "nbconvert_exporter": "python",
   "pygments_lexer": "ipython3",
   "version": "3.10.6"
  },
  "orig_nbformat": 4,
  "vscode": {
   "interpreter": {
    "hash": "aee8b7b246df8f9039afb4144a1f6fd8d2ca17a180786b69acc140d282b71a49"
   }
  }
 },
 "nbformat": 4,
 "nbformat_minor": 2
}
