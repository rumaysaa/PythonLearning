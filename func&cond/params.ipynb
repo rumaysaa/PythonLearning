{
 "cells": [
  {
   "cell_type": "code",
   "execution_count": 1,
   "metadata": {},
   "outputs": [
    {
     "name": "stdout",
     "output_type": "stream",
     "text": [
      "2 3\n"
     ]
    }
   ],
   "source": [
    "#non keyword parameter\n",
    "def fun(a ,b):\n",
    "    print(a,b)\n",
    "fun(2,3)"
   ]
  },
  {
   "cell_type": "code",
   "execution_count": 2,
   "metadata": {},
   "outputs": [
    {
     "name": "stdout",
     "output_type": "stream",
     "text": [
      "2 4\n"
     ]
    }
   ],
   "source": [
    "#keyword parameter\n",
    "def fun(a,b):\n",
    "    print(a,b)\n",
    "fun(b=4,a=2)"
   ]
  },
  {
   "cell_type": "code",
   "execution_count": 15,
   "metadata": {},
   "outputs": [
    {
     "name": "stdout",
     "output_type": "stream",
     "text": [
      "2 8\n"
     ]
    }
   ],
   "source": [
    "#default param\n",
    "def fun(a,b=3):\n",
    "    print(a,b)\n",
    "print(2,4,5,6,3,4,3,3,23,3,2,3,3,3)\n",
    "fun(2)"
   ]
  },
  {
   "cell_type": "markdown",
   "metadata": {},
   "source": [
    "NOTE: non-default parameter followed default parameter is not allowed.\n",
    "    (refer next eg)"
   ]
  },
  {
   "cell_type": "code",
   "execution_count": 7,
   "metadata": {},
   "outputs": [
    {
     "ename": "SyntaxError",
     "evalue": "non-default argument follows default argument (1041410587.py, line 1)",
     "output_type": "error",
     "traceback": [
      "\u001b[0;36m  Input \u001b[0;32mIn [7]\u001b[0;36m\u001b[0m\n\u001b[0;31m    def fun(a=3,b):\u001b[0m\n\u001b[0m                ^\u001b[0m\n\u001b[0;31mSyntaxError\u001b[0m\u001b[0;31m:\u001b[0m non-default argument follows default argument\n"
     ]
    }
   ],
   "source": [
    "def fun(a=3,b):\n",
    "    print(a,b)\n",
    "fun(2)"
   ]
  },
  {
   "cell_type": "code",
   "execution_count": 18,
   "metadata": {},
   "outputs": [
    {
     "name": "stdout",
     "output_type": "stream",
     "text": [
      "(10, 20, 30, 40, 98, 78)\n"
     ]
    },
    {
     "data": {
      "text/plain": [
       "46.0"
      ]
     },
     "execution_count": 18,
     "metadata": {},
     "output_type": "execute_result"
    }
   ],
   "source": [
    "#indefinite non-keyword params\n",
    "def fun(*args):\n",
    "    print((args))\n",
    "    return sum(args)/len(args)\n",
    "fun(10,20,30,40,98,78)\n",
    "#print(fun(10,20,30,40,98,78)) # fun(10,a=20,30,34) gives an error"
   ]
  },
  {
   "cell_type": "code",
   "execution_count": 13,
   "metadata": {},
   "outputs": [
    {
     "name": "stdout",
     "output_type": "stream",
     "text": [
      "['L', 'R', 'Z']\n"
     ]
    }
   ],
   "source": [
    "#indefinite number of non-keyword args\n",
    "mylist = []\n",
    "def fun(*args):\n",
    "    for i in list(args):\n",
    "        mylist.append(i.upper())\n",
    "    return sorted(mylist)\n",
    "print(fun('z','r','l'))"
   ]
  },
  {
   "cell_type": "code",
   "execution_count": 14,
   "metadata": {},
   "outputs": [
    {
     "name": "stdout",
     "output_type": "stream",
     "text": [
      "9\n"
     ]
    }
   ],
   "source": [
    "#definite number of keyword args\n",
    "def find_sum(**kwargs):\n",
    "    return sum(kwargs.values())\n",
    "    \n",
    "print(find_sum(a=2,b=7))\n",
    "#{\"a\":2 , \"b\":7}"
   ]
  }
 ],
 "metadata": {
  "kernelspec": {
   "display_name": "Python 3.10.6 64-bit",
   "language": "python",
   "name": "python3"
  },
  "language_info": {
   "codemirror_mode": {
    "name": "ipython",
    "version": 3
   },
   "file_extension": ".py",
   "mimetype": "text/x-python",
   "name": "python",
   "nbconvert_exporter": "python",
   "pygments_lexer": "ipython3",
   "version": "3.10.6"
  },
  "orig_nbformat": 4,
  "vscode": {
   "interpreter": {
    "hash": "aee8b7b246df8f9039afb4144a1f6fd8d2ca17a180786b69acc140d282b71a49"
   }
  }
 },
 "nbformat": 4,
 "nbformat_minor": 2
}
