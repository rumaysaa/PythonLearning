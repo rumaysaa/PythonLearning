{
 "cells": [
  {
   "cell_type": "code",
   "execution_count": 29,
   "metadata": {},
   "outputs": [
    {
     "name": "stdout",
     "output_type": "stream",
     "text": [
      "44.333333333333336\n"
     ]
    },
    {
     "ename": "TypeError",
     "evalue": "unsupported operand type(s) for +: 'int' and 'str'",
     "output_type": "error",
     "traceback": [
      "\u001b[0;31m---------------------------------------------------------------------------\u001b[0m",
      "\u001b[0;31mTypeError\u001b[0m                                 Traceback (most recent call last)",
      "\u001b[1;32m/Users/rumaysa/Documents/udemy_python/proj1/functions/conditional.ipynb Cell 1\u001b[0m in \u001b[0;36m<cell line: 12>\u001b[0;34m()\u001b[0m\n\u001b[1;32m      <a href='vscode-notebook-cell:/Users/rumaysa/Documents/udemy_python/proj1/functions/conditional.ipynb#ch0000000?line=8'>9</a>\u001b[0m d \u001b[39m=\u001b[39m {\u001b[39m\"\u001b[39m\u001b[39ma\u001b[39m\u001b[39m\"\u001b[39m:\u001b[39m24\u001b[39m,\u001b[39m\"\u001b[39m\u001b[39mb\u001b[39m\u001b[39m\"\u001b[39m:\u001b[39m11\u001b[39m,\u001b[39m\"\u001b[39m\u001b[39mc\u001b[39m\u001b[39m\"\u001b[39m:\u001b[39m66\u001b[39m}\n\u001b[1;32m     <a href='vscode-notebook-cell:/Users/rumaysa/Documents/udemy_python/proj1/functions/conditional.ipynb#ch0000000?line=10'>11</a>\u001b[0m \u001b[39mprint\u001b[39m(mean(\u001b[39mlist\u001b[39m))\n\u001b[0;32m---> <a href='vscode-notebook-cell:/Users/rumaysa/Documents/udemy_python/proj1/functions/conditional.ipynb#ch0000000?line=11'>12</a>\u001b[0m \u001b[39mprint\u001b[39m(mean(d))\n",
      "\u001b[1;32m/Users/rumaysa/Documents/udemy_python/proj1/functions/conditional.ipynb Cell 1\u001b[0m in \u001b[0;36mmean\u001b[0;34m(value)\u001b[0m\n\u001b[1;32m      <a href='vscode-notebook-cell:/Users/rumaysa/Documents/udemy_python/proj1/functions/conditional.ipynb#ch0000000?line=3'>4</a>\u001b[0m     \u001b[39mreturn\u001b[39;00m mean\n\u001b[1;32m      <a href='vscode-notebook-cell:/Users/rumaysa/Documents/udemy_python/proj1/functions/conditional.ipynb#ch0000000?line=4'>5</a>\u001b[0m \u001b[39melse\u001b[39;00m:\n\u001b[0;32m----> <a href='vscode-notebook-cell:/Users/rumaysa/Documents/udemy_python/proj1/functions/conditional.ipynb#ch0000000?line=5'>6</a>\u001b[0m     mean1 \u001b[39m=\u001b[39m \u001b[39msum\u001b[39;49m(value) \u001b[39m/\u001b[39m \u001b[39mlen\u001b[39m(value)\n\u001b[1;32m      <a href='vscode-notebook-cell:/Users/rumaysa/Documents/udemy_python/proj1/functions/conditional.ipynb#ch0000000?line=6'>7</a>\u001b[0m     \u001b[39mreturn\u001b[39;00m mean1\n",
      "\u001b[0;31mTypeError\u001b[0m: unsupported operand type(s) for +: 'int' and 'str'"
     ]
    }
   ],
   "source": [
    "def mean(value):\n",
    "    if (type(value) == dict):\n",
    "        mean = (sum(value.values())) / (len(value))\n",
    "    else:\n",
    "        mean = sum(value) / len(value)\n",
    "    return mean\n",
    "list = [45,23,65]\n",
    "d = {\"a\":24,\"b\":11,\"c\":66}\n",
    "\n",
    "print(mean(list))\n",
    "print(mean(d))\n",
    "#runs in .py file "
   ]
  },
  {
   "cell_type": "markdown",
   "metadata": {},
   "source": [
    "Define a function that:\n",
    "\n",
    "(1) takes a string as a parameter\n",
    "\n",
    "(2) returns False if the string contains less than 8 characters\n",
    "\n",
    "(3) returns True if the string contains 8 or more characters"
   ]
  },
  {
   "cell_type": "code",
   "execution_count": null,
   "metadata": {},
   "outputs": [],
   "source": [
    "def fun(string):\n",
    "    if len(string) < 8:\n",
    "        return False\n",
    "    else:\n",
    "        return True\n"
   ]
  },
  {
   "cell_type": "markdown",
   "metadata": {},
   "source": [
    "-> elif can be used for multiple conditions"
   ]
  },
  {
   "cell_type": "code",
   "execution_count": null,
   "metadata": {},
   "outputs": [],
   "source": [
    "def fun(temp):\n",
    "    if temp > 5:\n",
    "        return \"Hot\"\n",
    "    elif temp >= 15 and temp <= 25:\n",
    "        return \"Warm\"\n",
    "    else:\n",
    "        return \"Cold\""
   ]
  },
  {
   "cell_type": "code",
   "execution_count": 1,
   "metadata": {},
   "outputs": [
    {
     "name": "stdout",
     "output_type": "stream",
     "text": [
      "True\n",
      "False\n",
      "False\n"
     ]
    }
   ],
   "source": [
    "def foo(x, array):\n",
    "    if x in array:\n",
    "        return True\n",
    "    else:\n",
    "        return False\n",
    " \n",
    "print(foo(1, [1, 2, 3]))\n",
    "print(foo(1, [2, 3]))\n",
    "print(foo(1, ['1', 2, 3]))"
   ]
  }
 ],
 "metadata": {
  "kernelspec": {
   "display_name": "Python 3.10.6 64-bit",
   "language": "python",
   "name": "python3"
  },
  "language_info": {
   "codemirror_mode": {
    "name": "ipython",
    "version": 3
   },
   "file_extension": ".py",
   "mimetype": "text/x-python",
   "name": "python",
   "nbconvert_exporter": "python",
   "pygments_lexer": "ipython3",
   "version": "3.10.6"
  },
  "orig_nbformat": 4,
  "vscode": {
   "interpreter": {
    "hash": "aee8b7b246df8f9039afb4144a1f6fd8d2ca17a180786b69acc140d282b71a49"
   }
  }
 },
 "nbformat": 4,
 "nbformat_minor": 2
}
