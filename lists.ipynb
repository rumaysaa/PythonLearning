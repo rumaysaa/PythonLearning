{
 "cells": [
  {
   "cell_type": "code",
   "execution_count": 5,
   "metadata": {},
   "outputs": [
    {
     "name": "stdout",
     "output_type": "stream",
     "text": [
      "[23, 1, 45] ['apple', 1, 4.3] apple\n"
     ]
    }
   ],
   "source": [
    "list_1 = [23,1,45]\n",
    "list_2 = ['apple',1,4.3]\n",
    "print(list_1,list_2, list_2[0])"
   ]
  },
  {
   "cell_type": "code",
   "execution_count": 6,
   "metadata": {},
   "outputs": [
    {
     "name": "stdout",
     "output_type": "stream",
     "text": [
      "[45, 'hello', [76, 90.1]]\n",
      "[76, 90.1]\n"
     ]
    }
   ],
   "source": [
    "list_3 = [45, 'hello', [76,90.1]]\n",
    "print(list_3)\n",
    "print(list_3[2])"
   ]
  },
  {
   "cell_type": "markdown",
   "metadata": {},
   "source": [
    "Operations with lists:"
   ]
  },
  {
   "cell_type": "code",
   "execution_count": 7,
   "metadata": {},
   "outputs": [
    {
     "name": "stdout",
     "output_type": "stream",
     "text": [
      "[45, 'hello', [76, 90.1], 45, 'hello', [76, 90.1], 45, 'hello', [76, 90.1]]\n",
      "[45, 'hello', [76, 90.1], 45, 'hello', [76, 90.1]]\n"
     ]
    }
   ],
   "source": [
    "print(list_3 * 3)\n",
    "#print(list_3 + 3) gives error\n",
    "print(list_3 + list_3) #works as *2"
   ]
  },
  {
   "cell_type": "code",
   "execution_count": 8,
   "metadata": {},
   "outputs": [
    {
     "name": "stdout",
     "output_type": "stream",
     "text": [
      "[1, 3, 5, 7, 9]\n"
     ]
    }
   ],
   "source": [
    "#list using range\n",
    "list_4 = list(range(1,10,2))\n",
    "print(list_4)"
   ]
  },
  {
   "cell_type": "code",
   "execution_count": 9,
   "metadata": {},
   "outputs": [
    {
     "name": "stdout",
     "output_type": "stream",
     "text": [
      "41.36666666666667\n"
     ]
    }
   ],
   "source": [
    "#average of elements in list\n",
    "list = [23.2, 56.9, 44.0]\n",
    "mysum = sum(list)\n",
    "length = len(list)\n",
    "average = mysum/length\n",
    "print(average)"
   ]
  }
 ],
 "metadata": {
  "kernelspec": {
   "display_name": "Python 3.10.6 64-bit",
   "language": "python",
   "name": "python3"
  },
  "language_info": {
   "codemirror_mode": {
    "name": "ipython",
    "version": 3
   },
   "file_extension": ".py",
   "mimetype": "text/x-python",
   "name": "python",
   "nbconvert_exporter": "python",
   "pygments_lexer": "ipython3",
   "version": "3.10.6"
  },
  "orig_nbformat": 4,
  "vscode": {
   "interpreter": {
    "hash": "aee8b7b246df8f9039afb4144a1f6fd8d2ca17a180786b69acc140d282b71a49"
   }
  }
 },
 "nbformat": 4,
 "nbformat_minor": 2
}
