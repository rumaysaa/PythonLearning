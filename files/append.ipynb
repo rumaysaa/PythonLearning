{
 "cells": [
  {
   "cell_type": "code",
   "execution_count": null,
   "metadata": {},
   "outputs": [],
   "source": [
    "#Append the text of bear1.txt to bear2.txt\n",
    "with open(\"bear1.txt\") as file1:\n",
    "    content = file1.read()\n",
    "\n",
    "with open(\"bear2.txt\",\"a\") as file2:\n",
    "    file2.write(content)"
   ]
  },
  {
   "cell_type": "markdown",
   "metadata": {},
   "source": [
    "The existing content of data.txt looks like this:\n",
    "\n",
    "1.3, 1.5\n",
    "\n",
    "2.3, 2.7\n",
    "\n",
    "Use Python to modify the content of data.txt so that its content looks like below:\n",
    "\n",
    "1.3, 1.5\n",
    "\n",
    "2.3, 2.7\n",
    "\n",
    "1.3, 1.5\n",
    "\n",
    "2.3, 2.7\n",
    "\n",
    "1.3, 1.5\n",
    "\n",
    "2.3, 2.7\n",
    "\n",
    "So, you need to find a way to insert the existing content two more times.\n",
    "\n"
   ]
  },
  {
   "cell_type": "code",
   "execution_count": null,
   "metadata": {},
   "outputs": [],
   "source": [
    "with open(\"data.txt\",\"a+\") as myfile:\n",
    "    myfile.seek(0)\n",
    "    content = myfile.read()\n",
    "    myfile.seek(0)\n",
    "    myfile.write(content)\n",
    "    myfile.write(content)"
   ]
  }
 ],
 "metadata": {
  "kernelspec": {
   "display_name": "Python 3.10.6 64-bit",
   "language": "python",
   "name": "python3"
  },
  "language_info": {
   "name": "python",
   "version": "3.10.6"
  },
  "orig_nbformat": 4,
  "vscode": {
   "interpreter": {
    "hash": "aee8b7b246df8f9039afb4144a1f6fd8d2ca17a180786b69acc140d282b71a49"
   }
  }
 },
 "nbformat": 4,
 "nbformat_minor": 2
}
