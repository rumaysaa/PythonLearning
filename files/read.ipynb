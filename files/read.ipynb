{
 "cells": [
  {
   "cell_type": "code",
   "execution_count": 1,
   "metadata": {},
   "outputs": [
    {
     "name": "stdout",
     "output_type": "stream",
     "text": [
      "Lachimolala\n",
      "party party yeahhhhh\n",
      "carbonara\n",
      "tony montana\n",
      "ding dong\n",
      "excusee meeeeeee\n",
      "\n"
     ]
    }
   ],
   "source": [
    "file_ = open(\"myfile.txt\")\n",
    "print(file_.read())"
   ]
  },
  {
   "cell_type": "code",
   "execution_count": null,
   "metadata": {},
   "outputs": [],
   "source": [
    "#Read the bear.txt file, and print out the first 90 characters of its content\n",
    "with open(\"myfile.txt\") as myfile:\n",
    "    content = myfile.read(90)\n",
    "print(content)"
   ]
  },
  {
   "cell_type": "code",
   "execution_count": null,
   "metadata": {},
   "outputs": [],
   "source": [
    "#Define a function that gets a single string character and a filepath as parameters and returns the number of occurences of that character in the file\n",
    "def fun(char,file_path):\n",
    "    with open(file_path) as myfile:\n",
    "        num = myfile.read().count(char)\n",
    "    return num"
   ]
  }
 ],
 "metadata": {
  "kernelspec": {
   "display_name": "Python 3.10.6 64-bit",
   "language": "python",
   "name": "python3"
  },
  "language_info": {
   "codemirror_mode": {
    "name": "ipython",
    "version": 3
   },
   "file_extension": ".py",
   "mimetype": "text/x-python",
   "name": "python",
   "nbconvert_exporter": "python",
   "pygments_lexer": "ipython3",
   "version": "3.10.6"
  },
  "orig_nbformat": 4,
  "vscode": {
   "interpreter": {
    "hash": "aee8b7b246df8f9039afb4144a1f6fd8d2ca17a180786b69acc140d282b71a49"
   }
  }
 },
 "nbformat": 4,
 "nbformat_minor": 2
}
